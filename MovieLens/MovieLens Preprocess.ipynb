{
 "cells": [
  {
   "cell_type": "code",
   "execution_count": 1,
   "metadata": {},
   "outputs": [
    {
     "name": "stderr",
     "output_type": "stream",
     "text": [
      "Using TensorFlow backend.\n"
     ]
    }
   ],
   "source": [
    "import numpy as np\n",
    "import pandas as pd\n",
    "import keras\n",
    "import datetime as dt\n",
    "import time"
   ]
  },
  {
   "cell_type": "markdown",
   "metadata": {},
   "source": [
    "# First, we get sessions info"
   ]
  },
  {
   "cell_type": "code",
   "execution_count": 2,
   "metadata": {},
   "outputs": [
    {
     "data": {
      "text/html": [
       "<div>\n",
       "<style scoped>\n",
       "    .dataframe tbody tr th:only-of-type {\n",
       "        vertical-align: middle;\n",
       "    }\n",
       "\n",
       "    .dataframe tbody tr th {\n",
       "        vertical-align: top;\n",
       "    }\n",
       "\n",
       "    .dataframe thead th {\n",
       "        text-align: right;\n",
       "    }\n",
       "</style>\n",
       "<table border=\"1\" class=\"dataframe\">\n",
       "  <thead>\n",
       "    <tr style=\"text-align: right;\">\n",
       "      <th></th>\n",
       "      <th>userId</th>\n",
       "      <th>movieId</th>\n",
       "      <th>rating</th>\n",
       "      <th>timestamp</th>\n",
       "    </tr>\n",
       "  </thead>\n",
       "  <tbody>\n",
       "    <tr>\n",
       "      <th>0</th>\n",
       "      <td>1</td>\n",
       "      <td>2</td>\n",
       "      <td>3.5</td>\n",
       "      <td>1112486027</td>\n",
       "    </tr>\n",
       "    <tr>\n",
       "      <th>1</th>\n",
       "      <td>1</td>\n",
       "      <td>29</td>\n",
       "      <td>3.5</td>\n",
       "      <td>1112484676</td>\n",
       "    </tr>\n",
       "    <tr>\n",
       "      <th>2</th>\n",
       "      <td>1</td>\n",
       "      <td>32</td>\n",
       "      <td>3.5</td>\n",
       "      <td>1112484819</td>\n",
       "    </tr>\n",
       "    <tr>\n",
       "      <th>3</th>\n",
       "      <td>1</td>\n",
       "      <td>47</td>\n",
       "      <td>3.5</td>\n",
       "      <td>1112484727</td>\n",
       "    </tr>\n",
       "    <tr>\n",
       "      <th>4</th>\n",
       "      <td>1</td>\n",
       "      <td>50</td>\n",
       "      <td>3.5</td>\n",
       "      <td>1112484580</td>\n",
       "    </tr>\n",
       "  </tbody>\n",
       "</table>\n",
       "</div>"
      ],
      "text/plain": [
       "   userId  movieId  rating   timestamp\n",
       "0       1        2     3.5  1112486027\n",
       "1       1       29     3.5  1112484676\n",
       "2       1       32     3.5  1112484819\n",
       "3       1       47     3.5  1112484727\n",
       "4       1       50     3.5  1112484580"
      ]
     },
     "execution_count": 2,
     "metadata": {},
     "output_type": "execute_result"
    }
   ],
   "source": [
    "ratings_df = pd.read_csv('./data/ratings.csv')\n",
    "ratings_df.head()"
   ]
  },
  {
   "cell_type": "code",
   "execution_count": 3,
   "metadata": {},
   "outputs": [],
   "source": [
    "# ALL TRAIN SET\n",
    "# Get only ratings between January 2008 to March 2013\n",
    "all_train_start = \"09/01/1995\"\n",
    "all_train_end = \"01/03/2013\"\n",
    "all_train_start_ts = time.mktime(dt.datetime.strptime(all_train_start, \"%d/%m/%Y\").timetuple())\n",
    "all_train_end_ts = time.mktime(dt.datetime.strptime(all_train_end, \"%d/%m/%Y\").timetuple())\n",
    "\n",
    "all_train_data = ratings_df.drop(['rating'], axis=1)\n",
    "# in date range\n",
    "all_train_data = all_train_data.loc[(all_train_data['timestamp'] >= all_train_start_ts) & (all_train_data['timestamp'] <= all_train_end_ts)]\n",
    "# only users 5 < rated_movies < 101\n",
    "all_train_data = all_train_data.groupby(\"userId\").filter(lambda x: len(x) > 5 and len(x) < 101)\n",
    "\n",
    "# RECENT TRAIN SET\n",
    "# Get only ratings between January 2008 to March 2013\n",
    "train_start = \"01/01/2008\"\n",
    "train_end = \"01/03/2013\"\n",
    "train_start_ts = time.mktime(dt.datetime.strptime(train_start, \"%d/%m/%Y\").timetuple())\n",
    "train_end_ts = time.mktime(dt.datetime.strptime(train_end, \"%d/%m/%Y\").timetuple())\n",
    "\n",
    "train_data = ratings_df.drop(['rating'], axis=1)\n",
    "# in date range\n",
    "train_data = train_data.loc[(train_data['timestamp'] >= train_start_ts) & (train_data['timestamp'] <= train_end_ts)]\n",
    "# only users 5 < rated_movies < 101\n",
    "train_data = train_data.groupby(\"userId\").filter(lambda x: len(x) > 5 and len(x) < 101)\n",
    "\n",
    "# DEV SET\n",
    "# Get only ratings between April 2014 to April 2015\n",
    "dev_start = \"01/04/2013\"\n",
    "dev_end = \"01/04/2014\"\n",
    "dev_start_ts = time.mktime(dt.datetime.strptime(dev_start, \"%d/%m/%Y\").timetuple())\n",
    "dev_end_ts = time.mktime(dt.datetime.strptime(dev_end, \"%d/%m/%Y\").timetuple())\n",
    "\n",
    "dev_data = ratings_df.drop(['rating'], axis=1)\n",
    "# in date range\n",
    "dev_data = dev_data.loc[(dev_data['timestamp'] >= dev_start_ts) & (dev_data['timestamp'] <= dev_end_ts)]\n",
    "# only users 5 < rated_movies < 101\n",
    "dev_data = dev_data.groupby(\"userId\").filter(lambda x: len(x) > 5 and len(x) < 101)\n",
    "\n",
    "# TEST SET\n",
    "# Get only ratings between April 2015 to April 2016\n",
    "test_start = \"02/04/2014\"\n",
    "test_end = \"01/04/2015\"\n",
    "test_start_ts = time.mktime(dt.datetime.strptime(test_start, \"%d/%m/%Y\").timetuple())\n",
    "test_end_ts = time.mktime(dt.datetime.strptime(test_end, \"%d/%m/%Y\").timetuple())\n",
    "\n",
    "test_data = ratings_df.drop(['rating'], axis=1)\n",
    "# in date range\n",
    "test_data = test_data.loc[(test_data['timestamp'] >= test_start_ts) & (test_data['timestamp'] <= test_end_ts)]\n",
    "# only users 5 < rated_movies < 101\n",
    "test_data = test_data.groupby(\"userId\").filter(lambda x: len(x) > 5 and len(x) < 101)"
   ]
  },
  {
   "cell_type": "code",
   "execution_count": 5,
   "metadata": {},
   "outputs": [
    {
     "name": "stdout",
     "output_type": "stream",
     "text": [
      "(3749420, 3)\n",
      "80466\n",
      "(884615, 3)\n",
      "19850\n",
      "(225691, 3)\n",
      "5747\n",
      "(215606, 3)\n",
      "5270\n"
     ]
    }
   ],
   "source": [
    "print(all_train_data.shape)\n",
    "print(len(all_train_data['userId'].unique()))\n",
    "\n",
    "print(train_data.shape)\n",
    "print(len(train_data['userId'].unique()))\n",
    "\n",
    "print(dev_data.shape)\n",
    "print(len(dev_data['userId'].unique()))\n",
    "\n",
    "print(test_data.shape)\n",
    "print(len(test_data['userId'].unique()))"
   ]
  },
  {
   "cell_type": "code",
   "execution_count": 6,
   "metadata": {},
   "outputs": [
    {
     "data": {
      "text/html": [
       "<div>\n",
       "<style scoped>\n",
       "    .dataframe tbody tr th:only-of-type {\n",
       "        vertical-align: middle;\n",
       "    }\n",
       "\n",
       "    .dataframe tbody tr th {\n",
       "        vertical-align: top;\n",
       "    }\n",
       "\n",
       "    .dataframe thead th {\n",
       "        text-align: right;\n",
       "    }\n",
       "</style>\n",
       "<table border=\"1\" class=\"dataframe\">\n",
       "  <thead>\n",
       "    <tr style=\"text-align: right;\">\n",
       "      <th></th>\n",
       "      <th>SessionId</th>\n",
       "      <th>ItemId</th>\n",
       "      <th>Time</th>\n",
       "    </tr>\n",
       "  </thead>\n",
       "  <tbody>\n",
       "    <tr>\n",
       "      <th>1940</th>\n",
       "      <td>18</td>\n",
       "      <td>186</td>\n",
       "      <td>1267347706</td>\n",
       "    </tr>\n",
       "    <tr>\n",
       "      <th>1954</th>\n",
       "      <td>18</td>\n",
       "      <td>858</td>\n",
       "      <td>1236356241</td>\n",
       "    </tr>\n",
       "    <tr>\n",
       "      <th>1955</th>\n",
       "      <td>18</td>\n",
       "      <td>912</td>\n",
       "      <td>1283426281</td>\n",
       "    </tr>\n",
       "    <tr>\n",
       "      <th>1960</th>\n",
       "      <td>18</td>\n",
       "      <td>1221</td>\n",
       "      <td>1236356224</td>\n",
       "    </tr>\n",
       "    <tr>\n",
       "      <th>1961</th>\n",
       "      <td>18</td>\n",
       "      <td>1230</td>\n",
       "      <td>1236293194</td>\n",
       "    </tr>\n",
       "  </tbody>\n",
       "</table>\n",
       "</div>"
      ],
      "text/plain": [
       "      SessionId  ItemId        Time\n",
       "1940         18     186  1267347706\n",
       "1954         18     858  1236356241\n",
       "1955         18     912  1283426281\n",
       "1960         18    1221  1236356224\n",
       "1961         18    1230  1236293194"
      ]
     },
     "execution_count": 6,
     "metadata": {},
     "output_type": "execute_result"
    }
   ],
   "source": [
    "all_train_data.columns = ['SessionId', 'ItemId', 'Time']\n",
    "train_data.columns = ['SessionId', 'ItemId', 'Time']\n",
    "dev_data.columns = ['SessionId', 'ItemId', 'Time']\n",
    "test_data.columns = ['SessionId', 'ItemId', 'Time']\n",
    "train_data.head()"
   ]
  },
  {
   "cell_type": "code",
   "execution_count": 7,
   "metadata": {},
   "outputs": [],
   "source": [
    "all_train_data.to_csv('./data/all_train.csv', sep='\\t', index=False)\n",
    "train_data.to_csv('./data/train.csv', sep='\\t', index=False)\n",
    "dev_data.to_csv('./data/dev.csv', sep='\\t', index=False)\n",
    "test_data.to_csv('./data/test.csv', sep='\\t', index=False)"
   ]
  },
  {
   "cell_type": "markdown",
   "metadata": {},
   "source": [
    "# Now, we extract semantic info\n",
    "\n",
    "## We don't care about each user's film perception. We aggregate all info associated to each film. Text is stemmed and processed.\n",
    "\n",
    "### The model receives each film's text vector and encodes it using GloVe. We then use this vector as a feature to train the whole model over. The idea is to capture the community feeling about each one, and use that information to recommend in a better way. \n",
    "\n",
    "### Also, during the course of a \"session\", in this case, it might be that particular films make a big impact on the next one to watch, or maybe down the line. An attention mechanism might be able to detect such patterns and then act on them."
   ]
  },
  {
   "cell_type": "code",
   "execution_count": 12,
   "metadata": {},
   "outputs": [
    {
     "data": {
      "text/html": [
       "<div>\n",
       "<style scoped>\n",
       "    .dataframe tbody tr th:only-of-type {\n",
       "        vertical-align: middle;\n",
       "    }\n",
       "\n",
       "    .dataframe tbody tr th {\n",
       "        vertical-align: top;\n",
       "    }\n",
       "\n",
       "    .dataframe thead th {\n",
       "        text-align: right;\n",
       "    }\n",
       "</style>\n",
       "<table border=\"1\" class=\"dataframe\">\n",
       "  <thead>\n",
       "    <tr style=\"text-align: right;\">\n",
       "      <th></th>\n",
       "      <th>movieId</th>\n",
       "      <th>tag</th>\n",
       "    </tr>\n",
       "  </thead>\n",
       "  <tbody>\n",
       "    <tr>\n",
       "      <th>0</th>\n",
       "      <td>4141</td>\n",
       "      <td>Mark Waters</td>\n",
       "    </tr>\n",
       "    <tr>\n",
       "      <th>1</th>\n",
       "      <td>208</td>\n",
       "      <td>dark hero</td>\n",
       "    </tr>\n",
       "    <tr>\n",
       "      <th>2</th>\n",
       "      <td>353</td>\n",
       "      <td>dark hero</td>\n",
       "    </tr>\n",
       "    <tr>\n",
       "      <th>3</th>\n",
       "      <td>521</td>\n",
       "      <td>noir thriller</td>\n",
       "    </tr>\n",
       "    <tr>\n",
       "      <th>4</th>\n",
       "      <td>592</td>\n",
       "      <td>dark hero</td>\n",
       "    </tr>\n",
       "  </tbody>\n",
       "</table>\n",
       "</div>"
      ],
      "text/plain": [
       "   movieId            tag\n",
       "0     4141    Mark Waters\n",
       "1      208      dark hero\n",
       "2      353      dark hero\n",
       "3      521  noir thriller\n",
       "4      592      dark hero"
      ]
     },
     "execution_count": 12,
     "metadata": {},
     "output_type": "execute_result"
    }
   ],
   "source": [
    "tags_df = pd.read_csv('./data/tags.csv')\n",
    "tags_df = tags_df[['movieId', 'tag']]\n",
    "tags_df.head()"
   ]
  },
  {
   "cell_type": "code",
   "execution_count": 13,
   "metadata": {
    "scrolled": true
   },
   "outputs": [
    {
     "data": {
      "text/html": [
       "<div>\n",
       "<style scoped>\n",
       "    .dataframe tbody tr th:only-of-type {\n",
       "        vertical-align: middle;\n",
       "    }\n",
       "\n",
       "    .dataframe tbody tr th {\n",
       "        vertical-align: top;\n",
       "    }\n",
       "\n",
       "    .dataframe thead th {\n",
       "        text-align: right;\n",
       "    }\n",
       "</style>\n",
       "<table border=\"1\" class=\"dataframe\">\n",
       "  <thead>\n",
       "    <tr style=\"text-align: right;\">\n",
       "      <th></th>\n",
       "      <th>movieId</th>\n",
       "      <th>genres</th>\n",
       "    </tr>\n",
       "  </thead>\n",
       "  <tbody>\n",
       "    <tr>\n",
       "      <th>0</th>\n",
       "      <td>1</td>\n",
       "      <td>Adventure|Animation|Children|Comedy|Fantasy</td>\n",
       "    </tr>\n",
       "    <tr>\n",
       "      <th>1</th>\n",
       "      <td>2</td>\n",
       "      <td>Adventure|Children|Fantasy</td>\n",
       "    </tr>\n",
       "    <tr>\n",
       "      <th>2</th>\n",
       "      <td>3</td>\n",
       "      <td>Comedy|Romance</td>\n",
       "    </tr>\n",
       "    <tr>\n",
       "      <th>3</th>\n",
       "      <td>4</td>\n",
       "      <td>Comedy|Drama|Romance</td>\n",
       "    </tr>\n",
       "    <tr>\n",
       "      <th>4</th>\n",
       "      <td>5</td>\n",
       "      <td>Comedy</td>\n",
       "    </tr>\n",
       "  </tbody>\n",
       "</table>\n",
       "</div>"
      ],
      "text/plain": [
       "   movieId                                       genres\n",
       "0        1  Adventure|Animation|Children|Comedy|Fantasy\n",
       "1        2                   Adventure|Children|Fantasy\n",
       "2        3                               Comedy|Romance\n",
       "3        4                         Comedy|Drama|Romance\n",
       "4        5                                       Comedy"
      ]
     },
     "execution_count": 13,
     "metadata": {},
     "output_type": "execute_result"
    }
   ],
   "source": [
    "genres_df = pd.read_csv('./data/movies.csv')\n",
    "genres_df = genres_df[['movieId', 'genres']]\n",
    "genres_df.head()"
   ]
  },
  {
   "cell_type": "code",
   "execution_count": 117,
   "metadata": {},
   "outputs": [
    {
     "name": "stderr",
     "output_type": "stream",
     "text": [
      "[nltk_data] Downloading package stopwords to\n",
      "[nltk_data]     /home/pcerdam/nltk_data...\n",
      "[nltk_data]   Package stopwords is already up-to-date!\n",
      "[nltk_data] Downloading package words to /home/pcerdam/nltk_data...\n",
      "[nltk_data]   Package words is already up-to-date!\n"
     ]
    }
   ],
   "source": [
    "# From tags take movieId, tag, then join all.\n",
    "\n",
    "# From genres, take movieId, genres (each one, \n",
    "# separate by whitespace), then join all\n",
    "\n",
    "# Then merge both tables\n",
    "import re\n",
    "from collections import defaultdict\n",
    "import nltk\n",
    "from nltk.corpus import stopwords\n",
    "\n",
    "nltk.download('stopwords')\n",
    "nltk.download('words')\n",
    "engwords = set(nltk.corpus.words.words())\n",
    "stops = set(stopwords.words(\"english\"))\n",
    "\n"
   ]
  },
  {
   "cell_type": "code",
   "execution_count": 128,
   "metadata": {},
   "outputs": [],
   "source": [
    "genres_dict = defaultdict(str)\n",
    "\n",
    "for mId in genres_df['movieId'].unique():\n",
    "    for item in genres_df.loc[genres_df['movieId'] == mId].iterrows():\n",
    "        genres_dict[item[1][0]] += \" \".join(str(item[1][1]).split(\"|\"))"
   ]
  },
  {
   "cell_type": "code",
   "execution_count": 134,
   "metadata": {},
   "outputs": [],
   "source": [
    "# we merge genre info with all tags on text_dict\n",
    "text_dict = defaultdict(set)\n",
    "\n",
    "for mId in genres_df['movieId'].unique():\n",
    "    for item in tags_df.loc[tags_df['movieId'] == mId].iterrows():\n",
    "        [text_dict[item[1][0]].add(tag.lower()) for tag in filter(None, re.split(\"\\W+\", str(item[1][1]))) if tag.lower() not in stops and tag.lower() in engwords and len(tag) > 2]\n",
    "        [text_dict[item[1][0]].add(genre.lower()) for genre in genres_dict[item[1][0]].split(\" \")]"
   ]
  },
  {
   "cell_type": "markdown",
   "metadata": {},
   "source": [
    "# Describir dataset. Cantidad promedio tags, etc. IMPORTANTE.\n",
    "\n",
    "## Some examples:"
   ]
  },
  {
   "cell_type": "code",
   "execution_count": 137,
   "metadata": {},
   "outputs": [
    {
     "data": {
      "text/plain": [
       "{'adventure',\n",
       " 'based',\n",
       " 'beloved',\n",
       " 'brent',\n",
       " 'character',\n",
       " 'drama',\n",
       " 'enterprise',\n",
       " 'far',\n",
       " 'franchise',\n",
       " 'future',\n",
       " 'gene',\n",
       " 'movie',\n",
       " 'odd',\n",
       " 'pointlessly',\n",
       " 'ruined',\n",
       " 'sci-fi',\n",
       " 'seen',\n",
       " 'sequel',\n",
       " 'show',\n",
       " 'space',\n",
       " 'star',\n",
       " 'time',\n",
       " 'travel',\n",
       " 'trek',\n",
       " 'video'}"
      ]
     },
     "execution_count": 137,
     "metadata": {},
     "output_type": "execute_result"
    }
   ],
   "source": [
    "# Star Trek, Generations\n",
    "text_dict[329]"
   ]
  },
  {
   "cell_type": "code",
   "execution_count": 138,
   "metadata": {},
   "outputs": [
    {
     "data": {
      "text/plain": [
       "{'action',\n",
       " 'alter',\n",
       " 'atmospheric',\n",
       " 'based',\n",
       " 'batman',\n",
       " 'best',\n",
       " 'bizarre',\n",
       " 'bleak',\n",
       " 'blow',\n",
       " 'book',\n",
       " 'bookie',\n",
       " 'burton',\n",
       " 'city',\n",
       " 'classic',\n",
       " 'comic',\n",
       " 'creepy',\n",
       " 'crime',\n",
       " 'critic',\n",
       " 'dark',\n",
       " 'design',\n",
       " 'dimensional',\n",
       " 'double',\n",
       " 'dreamlike',\n",
       " 'ego',\n",
       " 'ending',\n",
       " 'eric',\n",
       " 'film',\n",
       " 'franchise',\n",
       " 'future',\n",
       " 'get',\n",
       " 'good',\n",
       " 'goodness',\n",
       " 'great',\n",
       " 'hero',\n",
       " 'honest',\n",
       " 'jack',\n",
       " 'joker',\n",
       " 'kim',\n",
       " 'lavish',\n",
       " 'life',\n",
       " 'moody',\n",
       " 'movie',\n",
       " 'noir',\n",
       " 'nostalgia',\n",
       " 'paced',\n",
       " 'realistic',\n",
       " 'revenge',\n",
       " 'romance',\n",
       " 'see',\n",
       " 'seen',\n",
       " 'series',\n",
       " 'serious',\n",
       " 'slow',\n",
       " 'spherical',\n",
       " 'star',\n",
       " 'super',\n",
       " 'superhero',\n",
       " 'tense',\n",
       " 'thriller',\n",
       " 'top',\n",
       " 'vigilante',\n",
       " 'villain',\n",
       " 'want',\n",
       " 'way'}"
      ]
     },
     "execution_count": 138,
     "metadata": {},
     "output_type": "execute_result"
    }
   ],
   "source": [
    "# Batman\n",
    "text_dict[592]"
   ]
  },
  {
   "cell_type": "code",
   "execution_count": 140,
   "metadata": {},
   "outputs": [],
   "source": [
    "# Save data\n",
    "import pickle\n",
    "\n",
    "with open(\"./data/tags.pickle\", 'wb') as file:\n",
    "    pickle.dump(text_dict, file)"
   ]
  },
  {
   "cell_type": "code",
   "execution_count": null,
   "metadata": {},
   "outputs": [],
   "source": []
  }
 ],
 "metadata": {
  "kernelspec": {
   "display_name": "Python 3",
   "language": "python",
   "name": "python3"
  },
  "language_info": {
   "codemirror_mode": {
    "name": "ipython",
    "version": 3
   },
   "file_extension": ".py",
   "mimetype": "text/x-python",
   "name": "python",
   "nbconvert_exporter": "python",
   "pygments_lexer": "ipython3",
   "version": "3.5.2"
  }
 },
 "nbformat": 4,
 "nbformat_minor": 2
}
